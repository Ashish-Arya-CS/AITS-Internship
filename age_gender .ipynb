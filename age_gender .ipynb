{
 "cells": [
  {
   "cell_type": "code",
   "execution_count": 2,
   "metadata": {
    "execution": {
     "iopub.execute_input": "2020-12-08T11:49:08.607011Z",
     "iopub.status.busy": "2020-12-08T11:49:08.606791Z",
     "iopub.status.idle": "2020-12-08T11:49:11.327687Z",
     "shell.execute_reply": "2020-12-08T11:49:11.326861Z",
     "shell.execute_reply.started": "2020-12-08T11:49:08.606989Z"
    }
   },
   "outputs": [
    {
     "name": "stdout",
     "output_type": "stream",
     "text": [
      "--2020-12-08 11:49:08--  https://cainvas-static.s3.amazonaws.com/media/user_data/arya.ashish/age_gender.zip\n",
      "Resolving cainvas-static.s3.amazonaws.com (cainvas-static.s3.amazonaws.com)... 52.219.64.4\n",
      "Connecting to cainvas-static.s3.amazonaws.com (cainvas-static.s3.amazonaws.com)|52.219.64.4|:443... connected.\n",
      "HTTP request sent, awaiting response... 200 OK\n",
      "Length: 66303838 (63M) [application/x-zip-compressed]\n",
      "Saving to: ‘age_gender.zip’\n",
      "\n",
      "age_gender.zip      100%[===================>]  63.23M   100MB/s    in 0.6s    \n",
      "\n",
      "2020-12-08 11:49:09 (100 MB/s) - ‘age_gender.zip’ saved [66303838/66303838]\n",
      "\n"
     ]
    }
   ],
   "source": [
    "!wget -N \"https://cainvas-static.s3.amazonaws.com/media/user_data/arya.ashish/age_gender.zip\"\n",
    "!unzip -qo age_gender.zip \n",
    "!rm age_gender.zip"
   ]
  },
  {
   "cell_type": "code",
   "execution_count": 28,
   "metadata": {
    "execution": {
     "iopub.execute_input": "2020-12-08T11:59:00.794199Z",
     "iopub.status.busy": "2020-12-08T11:59:00.793653Z",
     "iopub.status.idle": "2020-12-08T11:59:00.806012Z",
     "shell.execute_reply": "2020-12-08T11:59:00.805406Z",
     "shell.execute_reply.started": "2020-12-08T11:59:00.794153Z"
    }
   },
   "outputs": [],
   "source": [
    "import numpy as np \n",
    "import pandas as pd \n",
    "import matplotlib.pyplot as plt\n",
    "from sklearn.model_selection import train_test_split\n",
    "import tensorflow as tf\n",
    "from tensorflow.keras.layers import Conv2D,InputLayer, Dropout, BatchNormalization, Flatten, Dense, MaxPooling2D\n",
    "from tensorflow.keras import utils\n",
    "from tensorflow.keras.models import Sequential\n",
    "from keras.callbacks import ModelCheckpoint"
   ]
  },
  {
   "cell_type": "code",
   "execution_count": 4,
   "metadata": {
    "_cell_guid": "79c7e3d0-c299-4dcb-8224-4455121ee9b0",
    "_uuid": "d629ff2d2480ee46fbb7e2d37f6b5fab8052498a",
    "execution": {
     "iopub.execute_input": "2020-12-08T11:49:51.780895Z",
     "iopub.status.busy": "2020-12-08T11:49:51.780676Z",
     "iopub.status.idle": "2020-12-08T11:49:53.490771Z",
     "shell.execute_reply": "2020-12-08T11:49:53.490089Z",
     "shell.execute_reply.started": "2020-12-08T11:49:51.780874Z"
    }
   },
   "outputs": [
    {
     "data": {
      "text/html": [
       "<div>\n",
       "<style scoped>\n",
       "    .dataframe tbody tr th:only-of-type {\n",
       "        vertical-align: middle;\n",
       "    }\n",
       "\n",
       "    .dataframe tbody tr th {\n",
       "        vertical-align: top;\n",
       "    }\n",
       "\n",
       "    .dataframe thead th {\n",
       "        text-align: right;\n",
       "    }\n",
       "</style>\n",
       "<table border=\"1\" class=\"dataframe\">\n",
       "  <thead>\n",
       "    <tr style=\"text-align: right;\">\n",
       "      <th></th>\n",
       "      <th>age</th>\n",
       "      <th>ethnicity</th>\n",
       "      <th>gender</th>\n",
       "      <th>img_name</th>\n",
       "      <th>pixels</th>\n",
       "    </tr>\n",
       "  </thead>\n",
       "  <tbody>\n",
       "    <tr>\n",
       "      <th>0</th>\n",
       "      <td>1</td>\n",
       "      <td>2</td>\n",
       "      <td>0</td>\n",
       "      <td>20161219203650636.jpg.chip.jpg</td>\n",
       "      <td>129 128 128 126 127 130 133 135 139 142 145 14...</td>\n",
       "    </tr>\n",
       "    <tr>\n",
       "      <th>1</th>\n",
       "      <td>1</td>\n",
       "      <td>2</td>\n",
       "      <td>0</td>\n",
       "      <td>20161219222752047.jpg.chip.jpg</td>\n",
       "      <td>164 74 111 168 169 171 175 182 184 188 193 199...</td>\n",
       "    </tr>\n",
       "    <tr>\n",
       "      <th>2</th>\n",
       "      <td>1</td>\n",
       "      <td>2</td>\n",
       "      <td>0</td>\n",
       "      <td>20161219222832191.jpg.chip.jpg</td>\n",
       "      <td>67 70 71 70 69 67 70 79 90 103 116 132 145 155...</td>\n",
       "    </tr>\n",
       "    <tr>\n",
       "      <th>3</th>\n",
       "      <td>1</td>\n",
       "      <td>2</td>\n",
       "      <td>0</td>\n",
       "      <td>20161220144911423.jpg.chip.jpg</td>\n",
       "      <td>193 197 198 200 199 200 202 203 204 205 208 21...</td>\n",
       "    </tr>\n",
       "    <tr>\n",
       "      <th>4</th>\n",
       "      <td>1</td>\n",
       "      <td>2</td>\n",
       "      <td>0</td>\n",
       "      <td>20161220144914327.jpg.chip.jpg</td>\n",
       "      <td>202 205 209 210 209 209 210 211 212 214 218 21...</td>\n",
       "    </tr>\n",
       "  </tbody>\n",
       "</table>\n",
       "</div>"
      ],
      "text/plain": [
       "   age  ethnicity  gender                        img_name  \\\n",
       "0    1          2       0  20161219203650636.jpg.chip.jpg   \n",
       "1    1          2       0  20161219222752047.jpg.chip.jpg   \n",
       "2    1          2       0  20161219222832191.jpg.chip.jpg   \n",
       "3    1          2       0  20161220144911423.jpg.chip.jpg   \n",
       "4    1          2       0  20161220144914327.jpg.chip.jpg   \n",
       "\n",
       "                                              pixels  \n",
       "0  129 128 128 126 127 130 133 135 139 142 145 14...  \n",
       "1  164 74 111 168 169 171 175 182 184 188 193 199...  \n",
       "2  67 70 71 70 69 67 70 79 90 103 116 132 145 155...  \n",
       "3  193 197 198 200 199 200 202 203 204 205 208 21...  \n",
       "4  202 205 209 210 209 209 210 211 212 214 218 21...  "
      ]
     },
     "execution_count": 4,
     "metadata": {},
     "output_type": "execute_result"
    }
   ],
   "source": [
    "Dataset = pd.read_csv('age_gender.csv')\n",
    "Dataset.head(5)"
   ]
  },
  {
   "cell_type": "code",
   "execution_count": 5,
   "metadata": {
    "execution": {
     "iopub.execute_input": "2020-12-08T11:50:18.824345Z",
     "iopub.status.busy": "2020-12-08T11:50:18.824105Z",
     "iopub.status.idle": "2020-12-08T11:50:18.925602Z",
     "shell.execute_reply": "2020-12-08T11:50:18.924976Z",
     "shell.execute_reply.started": "2020-12-08T11:50:18.824321Z"
    }
   },
   "outputs": [
    {
     "data": {
      "text/html": [
       "<div>\n",
       "<style scoped>\n",
       "    .dataframe tbody tr th:only-of-type {\n",
       "        vertical-align: middle;\n",
       "    }\n",
       "\n",
       "    .dataframe tbody tr th {\n",
       "        vertical-align: top;\n",
       "    }\n",
       "\n",
       "    .dataframe thead th {\n",
       "        text-align: right;\n",
       "    }\n",
       "</style>\n",
       "<table border=\"1\" class=\"dataframe\">\n",
       "  <thead>\n",
       "    <tr style=\"text-align: right;\">\n",
       "      <th></th>\n",
       "      <th>age</th>\n",
       "      <th>ethnicity</th>\n",
       "      <th>gender</th>\n",
       "    </tr>\n",
       "  </thead>\n",
       "  <tbody>\n",
       "    <tr>\n",
       "      <th>count</th>\n",
       "      <td>23705.000000</td>\n",
       "      <td>23705.000000</td>\n",
       "      <td>23705.000000</td>\n",
       "    </tr>\n",
       "    <tr>\n",
       "      <th>mean</th>\n",
       "      <td>33.300907</td>\n",
       "      <td>1.269226</td>\n",
       "      <td>0.477283</td>\n",
       "    </tr>\n",
       "    <tr>\n",
       "      <th>std</th>\n",
       "      <td>19.885708</td>\n",
       "      <td>1.345638</td>\n",
       "      <td>0.499494</td>\n",
       "    </tr>\n",
       "    <tr>\n",
       "      <th>min</th>\n",
       "      <td>1.000000</td>\n",
       "      <td>0.000000</td>\n",
       "      <td>0.000000</td>\n",
       "    </tr>\n",
       "    <tr>\n",
       "      <th>25%</th>\n",
       "      <td>23.000000</td>\n",
       "      <td>0.000000</td>\n",
       "      <td>0.000000</td>\n",
       "    </tr>\n",
       "    <tr>\n",
       "      <th>50%</th>\n",
       "      <td>29.000000</td>\n",
       "      <td>1.000000</td>\n",
       "      <td>0.000000</td>\n",
       "    </tr>\n",
       "    <tr>\n",
       "      <th>75%</th>\n",
       "      <td>45.000000</td>\n",
       "      <td>2.000000</td>\n",
       "      <td>1.000000</td>\n",
       "    </tr>\n",
       "    <tr>\n",
       "      <th>max</th>\n",
       "      <td>116.000000</td>\n",
       "      <td>4.000000</td>\n",
       "      <td>1.000000</td>\n",
       "    </tr>\n",
       "  </tbody>\n",
       "</table>\n",
       "</div>"
      ],
      "text/plain": [
       "                age     ethnicity        gender\n",
       "count  23705.000000  23705.000000  23705.000000\n",
       "mean      33.300907      1.269226      0.477283\n",
       "std       19.885708      1.345638      0.499494\n",
       "min        1.000000      0.000000      0.000000\n",
       "25%       23.000000      0.000000      0.000000\n",
       "50%       29.000000      1.000000      0.000000\n",
       "75%       45.000000      2.000000      1.000000\n",
       "max      116.000000      4.000000      1.000000"
      ]
     },
     "execution_count": 5,
     "metadata": {},
     "output_type": "execute_result"
    }
   ],
   "source": [
    "Dataset.describe()"
   ]
  },
  {
   "cell_type": "code",
   "execution_count": 6,
   "metadata": {
    "execution": {
     "iopub.execute_input": "2020-12-08T11:50:30.420867Z",
     "iopub.status.busy": "2020-12-08T11:50:30.420638Z",
     "iopub.status.idle": "2020-12-08T11:50:39.756377Z",
     "shell.execute_reply": "2020-12-08T11:50:39.755680Z",
     "shell.execute_reply.started": "2020-12-08T11:50:30.420846Z"
    }
   },
   "outputs": [],
   "source": [
    "# Actually images are in string format, let's transform it in more useful type of data.\n",
    "\n",
    "Dataset['pixels'] = Dataset['pixels'].map(lambda x: np.array(x.split(' '), dtype=np.float32).reshape(48, 48))"
   ]
  },
  {
   "cell_type": "code",
   "execution_count": 7,
   "metadata": {
    "execution": {
     "iopub.execute_input": "2020-12-08T11:50:39.763743Z",
     "iopub.status.busy": "2020-12-08T11:50:39.763554Z",
     "iopub.status.idle": "2020-12-08T11:50:39.881413Z",
     "shell.execute_reply": "2020-12-08T11:50:39.880816Z",
     "shell.execute_reply.started": "2020-12-08T11:50:39.763725Z"
    }
   },
   "outputs": [
    {
     "data": {
      "text/plain": [
       "<AxesSubplot:>"
      ]
     },
     "execution_count": 7,
     "metadata": {},
     "output_type": "execute_result"
    },
    {
     "data": {
      "image/png": "[encoded data removed]",
      "text/plain": [
       "<Figure size 432x288 with 1 Axes>"
      ]
     },
     "metadata": {
      "needs_background": "light"
     },
     "output_type": "display_data"
    }
   ],
   "source": [
    "Dataset['age'].hist()"
   ]
  },
  {
   "cell_type": "code",
   "execution_count": 8,
   "metadata": {
    "execution": {
     "iopub.execute_input": "2020-12-08T11:50:47.061236Z",
     "iopub.status.busy": "2020-12-08T11:50:47.061004Z",
     "iopub.status.idle": "2020-12-08T11:50:47.068663Z",
     "shell.execute_reply": "2020-12-08T11:50:47.068002Z",
     "shell.execute_reply.started": "2020-12-08T11:50:47.061214Z"
    }
   },
   "outputs": [],
   "source": [
    "Dataset[\"age_cat\"] = pd.cut(Dataset[\"age\"],\n",
    "                               bins=[0., 20., 40.0, 60., 80., np.inf],\n",
    "                               labels=[1, 2, 3, 4, 5])"
   ]
  },
  {
   "cell_type": "code",
   "execution_count": 9,
   "metadata": {
    "execution": {
     "iopub.execute_input": "2020-12-08T11:50:48.400237Z",
     "iopub.status.busy": "2020-12-08T11:50:48.400009Z",
     "iopub.status.idle": "2020-12-08T11:50:48.406890Z",
     "shell.execute_reply": "2020-12-08T11:50:48.406342Z",
     "shell.execute_reply.started": "2020-12-08T11:50:48.400215Z"
    }
   },
   "outputs": [
    {
     "data": {
      "text/plain": [
       "2    12122\n",
       "1     4877\n",
       "3     4311\n",
       "4     1855\n",
       "5      540\n",
       "Name: age_cat, dtype: int64"
      ]
     },
     "execution_count": 9,
     "metadata": {},
     "output_type": "execute_result"
    }
   ],
   "source": [
    "Dataset[\"age_cat\"].value_counts()"
   ]
  },
  {
   "cell_type": "code",
   "execution_count": 10,
   "metadata": {
    "execution": {
     "iopub.execute_input": "2020-12-08T11:51:10.448133Z",
     "iopub.status.busy": "2020-12-08T11:51:10.447893Z",
     "iopub.status.idle": "2020-12-08T11:51:10.456191Z",
     "shell.execute_reply": "2020-12-08T11:51:10.455465Z",
     "shell.execute_reply.started": "2020-12-08T11:51:10.448109Z"
    }
   },
   "outputs": [
    {
     "data": {
      "text/plain": [
       "2    0.511369\n",
       "1    0.205737\n",
       "3    0.181860\n",
       "4    0.078254\n",
       "5    0.022780\n",
       "Name: age_cat, dtype: float64"
      ]
     },
     "execution_count": 10,
     "metadata": {},
     "output_type": "execute_result"
    }
   ],
   "source": [
    "Dataset['age_cat'].value_counts()/len(Dataset)"
   ]
  },
  {
   "cell_type": "code",
   "execution_count": 11,
   "metadata": {
    "execution": {
     "iopub.execute_input": "2020-12-08T11:51:13.200376Z",
     "iopub.status.busy": "2020-12-08T11:51:13.200027Z",
     "iopub.status.idle": "2020-12-08T11:51:13.220383Z",
     "shell.execute_reply": "2020-12-08T11:51:13.219812Z",
     "shell.execute_reply.started": "2020-12-08T11:51:13.200332Z"
    }
   },
   "outputs": [],
   "source": [
    "from sklearn.model_selection import StratifiedShuffleSplit\n",
    "\n",
    "split = StratifiedShuffleSplit(n_splits=1, test_size=0.2, random_state=42)\n",
    "for train_index, test_index in split.split(Dataset, Dataset[\"age_cat\"]):\n",
    "    strat_train_set = Dataset.loc[train_index]\n",
    "    strat_test_set = Dataset.loc[test_index]"
   ]
  },
  {
   "cell_type": "code",
   "execution_count": 12,
   "metadata": {
    "execution": {
     "iopub.execute_input": "2020-12-08T11:51:14.330364Z",
     "iopub.status.busy": "2020-12-08T11:51:14.330109Z",
     "iopub.status.idle": "2020-12-08T11:51:14.340723Z",
     "shell.execute_reply": "2020-12-08T11:51:14.339956Z",
     "shell.execute_reply.started": "2020-12-08T11:51:14.330341Z"
    }
   },
   "outputs": [
    {
     "data": {
      "text/plain": [
       "2    0.511285\n",
       "1    0.205864\n",
       "3    0.181818\n",
       "4    0.078254\n",
       "5    0.022780\n",
       "Name: age_cat, dtype: float64"
      ]
     },
     "execution_count": 12,
     "metadata": {},
     "output_type": "execute_result"
    }
   ],
   "source": [
    "strat_test_set['age_cat'].value_counts()/len(strat_test_set)"
   ]
  },
  {
   "cell_type": "code",
   "execution_count": 13,
   "metadata": {
    "execution": {
     "iopub.execute_input": "2020-12-08T11:51:34.944563Z",
     "iopub.status.busy": "2020-12-08T11:51:34.944346Z",
     "iopub.status.idle": "2020-12-08T11:51:34.960608Z",
     "shell.execute_reply": "2020-12-08T11:51:34.959994Z",
     "shell.execute_reply.started": "2020-12-08T11:51:34.944542Z"
    }
   },
   "outputs": [],
   "source": [
    "def age_cat_proportions(data):\n",
    "    return data[\"age_cat\"].value_counts() / len(data)\n",
    "\n",
    "train_set, test_set = train_test_split(Dataset, test_size=0.2, random_state=42)\n",
    "\n",
    "compare_props = pd.DataFrame({\n",
    "    \"Overall\": age_cat_proportions(Dataset),\n",
    "    \"Stratified\": age_cat_proportions(strat_test_set),\n",
    "    \"Random\": age_cat_proportions(test_set),\n",
    "}).sort_index()\n",
    "compare_props[\"Rand. %error\"] = 100 * compare_props[\"Random\"] / compare_props[\"Overall\"] - 100\n",
    "compare_props[\"Strat. %error\"] = 100 * compare_props[\"Stratified\"] / compare_props[\"Overall\"] - 100"
   ]
  },
  {
   "cell_type": "code",
   "execution_count": 14,
   "metadata": {
    "execution": {
     "iopub.execute_input": "2020-12-08T11:51:35.594829Z",
     "iopub.status.busy": "2020-12-08T11:51:35.594602Z",
     "iopub.status.idle": "2020-12-08T11:51:35.604711Z",
     "shell.execute_reply": "2020-12-08T11:51:35.604106Z",
     "shell.execute_reply.started": "2020-12-08T11:51:35.594806Z"
    }
   },
   "outputs": [
    {
     "data": {
      "text/html": [
       "<div>\n",
       "<style scoped>\n",
       "    .dataframe tbody tr th:only-of-type {\n",
       "        vertical-align: middle;\n",
       "    }\n",
       "\n",
       "    .dataframe tbody tr th {\n",
       "        vertical-align: top;\n",
       "    }\n",
       "\n",
       "    .dataframe thead th {\n",
       "        text-align: right;\n",
       "    }\n",
       "</style>\n",
       "<table border=\"1\" class=\"dataframe\">\n",
       "  <thead>\n",
       "    <tr style=\"text-align: right;\">\n",
       "      <th></th>\n",
       "      <th>Overall</th>\n",
       "      <th>Stratified</th>\n",
       "      <th>Random</th>\n",
       "      <th>Rand. %error</th>\n",
       "      <th>Strat. %error</th>\n",
       "    </tr>\n",
       "  </thead>\n",
       "  <tbody>\n",
       "    <tr>\n",
       "      <th>1</th>\n",
       "      <td>0.205737</td>\n",
       "      <td>0.205864</td>\n",
       "      <td>0.201223</td>\n",
       "      <td>-2.193972</td>\n",
       "      <td>0.061513</td>\n",
       "    </tr>\n",
       "    <tr>\n",
       "      <th>2</th>\n",
       "      <td>0.511369</td>\n",
       "      <td>0.511285</td>\n",
       "      <td>0.517401</td>\n",
       "      <td>1.179673</td>\n",
       "      <td>-0.016499</td>\n",
       "    </tr>\n",
       "    <tr>\n",
       "      <th>3</th>\n",
       "      <td>0.181860</td>\n",
       "      <td>0.181818</td>\n",
       "      <td>0.178865</td>\n",
       "      <td>-1.646950</td>\n",
       "      <td>-0.023196</td>\n",
       "    </tr>\n",
       "    <tr>\n",
       "      <th>4</th>\n",
       "      <td>0.078254</td>\n",
       "      <td>0.078254</td>\n",
       "      <td>0.079730</td>\n",
       "      <td>1.886792</td>\n",
       "      <td>0.000000</td>\n",
       "    </tr>\n",
       "    <tr>\n",
       "      <th>5</th>\n",
       "      <td>0.022780</td>\n",
       "      <td>0.022780</td>\n",
       "      <td>0.022780</td>\n",
       "      <td>0.000000</td>\n",
       "      <td>0.000000</td>\n",
       "    </tr>\n",
       "  </tbody>\n",
       "</table>\n",
       "</div>"
      ],
      "text/plain": [
       "    Overall  Stratified    Random  Rand. %error  Strat. %error\n",
       "1  0.205737    0.205864  0.201223     -2.193972       0.061513\n",
       "2  0.511369    0.511285  0.517401      1.179673      -0.016499\n",
       "3  0.181860    0.181818  0.178865     -1.646950      -0.023196\n",
       "4  0.078254    0.078254  0.079730      1.886792       0.000000\n",
       "5  0.022780    0.022780  0.022780      0.000000       0.000000"
      ]
     },
     "execution_count": 14,
     "metadata": {},
     "output_type": "execute_result"
    }
   ],
   "source": [
    "compare_props"
   ]
  },
  {
   "cell_type": "code",
   "execution_count": 15,
   "metadata": {
    "execution": {
     "iopub.execute_input": "2020-12-08T11:51:45.512529Z",
     "iopub.status.busy": "2020-12-08T11:51:45.512179Z",
     "iopub.status.idle": "2020-12-08T11:51:45.521134Z",
     "shell.execute_reply": "2020-12-08T11:51:45.520271Z",
     "shell.execute_reply.started": "2020-12-08T11:51:45.512495Z"
    }
   },
   "outputs": [],
   "source": [
    "for set_ in (strat_train_set, strat_test_set):\n",
    "    set_.drop(\"age_cat\", axis=1, inplace=True)"
   ]
  },
  {
   "cell_type": "code",
   "execution_count": 16,
   "metadata": {
    "execution": {
     "iopub.execute_input": "2020-12-08T11:51:46.421599Z",
     "iopub.status.busy": "2020-12-08T11:51:46.421379Z",
     "iopub.status.idle": "2020-12-08T11:51:46.735478Z",
     "shell.execute_reply": "2020-12-08T11:51:46.734924Z",
     "shell.execute_reply.started": "2020-12-08T11:51:46.421578Z"
    }
   },
   "outputs": [
    {
     "data": {
      "text/html": [
       "<div>\n",
       "<style scoped>\n",
       "    .dataframe tbody tr th:only-of-type {\n",
       "        vertical-align: middle;\n",
       "    }\n",
       "\n",
       "    .dataframe tbody tr th {\n",
       "        vertical-align: top;\n",
       "    }\n",
       "\n",
       "    .dataframe thead th {\n",
       "        text-align: right;\n",
       "    }\n",
       "</style>\n",
       "<table border=\"1\" class=\"dataframe\">\n",
       "  <thead>\n",
       "    <tr style=\"text-align: right;\">\n",
       "      <th></th>\n",
       "      <th>age</th>\n",
       "      <th>ethnicity</th>\n",
       "      <th>gender</th>\n",
       "      <th>img_name</th>\n",
       "      <th>pixels</th>\n",
       "    </tr>\n",
       "  </thead>\n",
       "  <tbody>\n",
       "    <tr>\n",
       "      <th>13327</th>\n",
       "      <td>35</td>\n",
       "      <td>1</td>\n",
       "      <td>1</td>\n",
       "      <td>20170117154137390.jpg.chip.jpg</td>\n",
       "      <td>[[0.0, 0.0, 0.0, 0.0, 0.0, 0.0, 0.0, 0.0, 0.0,...</td>\n",
       "    </tr>\n",
       "    <tr>\n",
       "      <th>1216</th>\n",
       "      <td>10</td>\n",
       "      <td>4</td>\n",
       "      <td>1</td>\n",
       "      <td>20170104005649671.jpg.chip.jpg</td>\n",
       "      <td>[[16.0, 13.0, 12.0, 10.0, 10.0, 14.0, 21.0, 29...</td>\n",
       "    </tr>\n",
       "    <tr>\n",
       "      <th>7056</th>\n",
       "      <td>26</td>\n",
       "      <td>3</td>\n",
       "      <td>1</td>\n",
       "      <td>20170117153041485.jpg.chip.jpg</td>\n",
       "      <td>[[37.0, 23.0, 14.0, 16.0, 18.0, 15.0, 16.0, 28...</td>\n",
       "    </tr>\n",
       "    <tr>\n",
       "      <th>18424</th>\n",
       "      <td>50</td>\n",
       "      <td>0</td>\n",
       "      <td>0</td>\n",
       "      <td>20170104181517653.jpg.chip.jpg</td>\n",
       "      <td>[[95.0, 93.0, 93.0, 106.0, 160.0, 180.0, 184.0...</td>\n",
       "    </tr>\n",
       "    <tr>\n",
       "      <th>5273</th>\n",
       "      <td>24</td>\n",
       "      <td>2</td>\n",
       "      <td>1</td>\n",
       "      <td>20170116173419546.jpg.chip.jpg</td>\n",
       "      <td>[[19.0, 22.0, 33.0, 50.0, 74.0, 102.0, 123.0, ...</td>\n",
       "    </tr>\n",
       "    <tr>\n",
       "      <th>...</th>\n",
       "      <td>...</td>\n",
       "      <td>...</td>\n",
       "      <td>...</td>\n",
       "      <td>...</td>\n",
       "      <td>...</td>\n",
       "    </tr>\n",
       "    <tr>\n",
       "      <th>14209</th>\n",
       "      <td>36</td>\n",
       "      <td>0</td>\n",
       "      <td>0</td>\n",
       "      <td>20170105163417082.jpg.chip.jpg</td>\n",
       "      <td>[[52.0, 46.0, 32.0, 35.0, 46.0, 94.0, 124.0, 1...</td>\n",
       "    </tr>\n",
       "    <tr>\n",
       "      <th>3291</th>\n",
       "      <td>20</td>\n",
       "      <td>3</td>\n",
       "      <td>1</td>\n",
       "      <td>20170104222031311.jpg.chip.jpg</td>\n",
       "      <td>[[128.0, 16.0, 30.0, 29.0, 15.0, 12.0, 12.0, 1...</td>\n",
       "    </tr>\n",
       "    <tr>\n",
       "      <th>6976</th>\n",
       "      <td>26</td>\n",
       "      <td>3</td>\n",
       "      <td>1</td>\n",
       "      <td>20170117154857092.jpg.chip.jpg</td>\n",
       "      <td>[[1.0, 1.0, 1.0, 2.0, 2.0, 6.0, 11.0, 30.0, 64...</td>\n",
       "    </tr>\n",
       "    <tr>\n",
       "      <th>21892</th>\n",
       "      <td>7</td>\n",
       "      <td>0</td>\n",
       "      <td>0</td>\n",
       "      <td>20170110215534588.jpg.chip.jpg</td>\n",
       "      <td>[[100.0, 114.0, 130.0, 125.0, 141.0, 129.0, 13...</td>\n",
       "    </tr>\n",
       "    <tr>\n",
       "      <th>22411</th>\n",
       "      <td>75</td>\n",
       "      <td>0</td>\n",
       "      <td>1</td>\n",
       "      <td>20170110182543266.jpg.chip.jpg</td>\n",
       "      <td>[[140.0, 140.0, 141.0, 142.0, 136.0, 128.0, 12...</td>\n",
       "    </tr>\n",
       "  </tbody>\n",
       "</table>\n",
       "<p>18964 rows × 5 columns</p>\n",
       "</div>"
      ],
      "text/plain": [
       "       age  ethnicity  gender                        img_name  \\\n",
       "13327   35          1       1  20170117154137390.jpg.chip.jpg   \n",
       "1216    10          4       1  20170104005649671.jpg.chip.jpg   \n",
       "7056    26          3       1  20170117153041485.jpg.chip.jpg   \n",
       "18424   50          0       0  20170104181517653.jpg.chip.jpg   \n",
       "5273    24          2       1  20170116173419546.jpg.chip.jpg   \n",
       "...    ...        ...     ...                             ...   \n",
       "14209   36          0       0  20170105163417082.jpg.chip.jpg   \n",
       "3291    20          3       1  20170104222031311.jpg.chip.jpg   \n",
       "6976    26          3       1  20170117154857092.jpg.chip.jpg   \n",
       "21892    7          0       0  20170110215534588.jpg.chip.jpg   \n",
       "22411   75          0       1  20170110182543266.jpg.chip.jpg   \n",
       "\n",
       "                                                  pixels  \n",
       "13327  [[0.0, 0.0, 0.0, 0.0, 0.0, 0.0, 0.0, 0.0, 0.0,...  \n",
       "1216   [[16.0, 13.0, 12.0, 10.0, 10.0, 14.0, 21.0, 29...  \n",
       "7056   [[37.0, 23.0, 14.0, 16.0, 18.0, 15.0, 16.0, 28...  \n",
       "18424  [[95.0, 93.0, 93.0, 106.0, 160.0, 180.0, 184.0...  \n",
       "5273   [[19.0, 22.0, 33.0, 50.0, 74.0, 102.0, 123.0, ...  \n",
       "...                                                  ...  \n",
       "14209  [[52.0, 46.0, 32.0, 35.0, 46.0, 94.0, 124.0, 1...  \n",
       "3291   [[128.0, 16.0, 30.0, 29.0, 15.0, 12.0, 12.0, 1...  \n",
       "6976   [[1.0, 1.0, 1.0, 2.0, 2.0, 6.0, 11.0, 30.0, 64...  \n",
       "21892  [[100.0, 114.0, 130.0, 125.0, 141.0, 129.0, 13...  \n",
       "22411  [[140.0, 140.0, 141.0, 142.0, 136.0, 128.0, 12...  \n",
       "\n",
       "[18964 rows x 5 columns]"
      ]
     },
     "execution_count": 16,
     "metadata": {},
     "output_type": "execute_result"
    }
   ],
   "source": [
    "strat_train_set"
   ]
  },
  {
   "cell_type": "code",
   "execution_count": 17,
   "metadata": {
    "execution": {
     "iopub.execute_input": "2020-12-08T11:51:50.187869Z",
     "iopub.status.busy": "2020-12-08T11:51:50.187534Z",
     "iopub.status.idle": "2020-12-08T11:51:50.194366Z",
     "shell.execute_reply": "2020-12-08T11:51:50.193694Z",
     "shell.execute_reply.started": "2020-12-08T11:51:50.187837Z"
    }
   },
   "outputs": [],
   "source": [
    "full_dataset = strat_train_set.append(strat_test_set)"
   ]
  },
  {
   "cell_type": "code",
   "execution_count": 18,
   "metadata": {
    "execution": {
     "iopub.execute_input": "2020-12-08T11:51:50.916450Z",
     "iopub.status.busy": "2020-12-08T11:51:50.916232Z",
     "iopub.status.idle": "2020-12-08T11:51:51.080619Z",
     "shell.execute_reply": "2020-12-08T11:51:51.080085Z",
     "shell.execute_reply.started": "2020-12-08T11:51:50.916430Z"
    }
   },
   "outputs": [
    {
     "data": {
      "text/html": [
       "<div>\n",
       "<style scoped>\n",
       "    .dataframe tbody tr th:only-of-type {\n",
       "        vertical-align: middle;\n",
       "    }\n",
       "\n",
       "    .dataframe tbody tr th {\n",
       "        vertical-align: top;\n",
       "    }\n",
       "\n",
       "    .dataframe thead th {\n",
       "        text-align: right;\n",
       "    }\n",
       "</style>\n",
       "<table border=\"1\" class=\"dataframe\">\n",
       "  <thead>\n",
       "    <tr style=\"text-align: right;\">\n",
       "      <th></th>\n",
       "      <th>age</th>\n",
       "      <th>ethnicity</th>\n",
       "      <th>gender</th>\n",
       "      <th>img_name</th>\n",
       "      <th>pixels</th>\n",
       "    </tr>\n",
       "  </thead>\n",
       "  <tbody>\n",
       "    <tr>\n",
       "      <th>13327</th>\n",
       "      <td>35</td>\n",
       "      <td>1</td>\n",
       "      <td>1</td>\n",
       "      <td>20170117154137390.jpg.chip.jpg</td>\n",
       "      <td>[[0.0, 0.0, 0.0, 0.0, 0.0, 0.0, 0.0, 0.0, 0.0,...</td>\n",
       "    </tr>\n",
       "    <tr>\n",
       "      <th>1216</th>\n",
       "      <td>10</td>\n",
       "      <td>4</td>\n",
       "      <td>1</td>\n",
       "      <td>20170104005649671.jpg.chip.jpg</td>\n",
       "      <td>[[16.0, 13.0, 12.0, 10.0, 10.0, 14.0, 21.0, 29...</td>\n",
       "    </tr>\n",
       "    <tr>\n",
       "      <th>7056</th>\n",
       "      <td>26</td>\n",
       "      <td>3</td>\n",
       "      <td>1</td>\n",
       "      <td>20170117153041485.jpg.chip.jpg</td>\n",
       "      <td>[[37.0, 23.0, 14.0, 16.0, 18.0, 15.0, 16.0, 28...</td>\n",
       "    </tr>\n",
       "    <tr>\n",
       "      <th>18424</th>\n",
       "      <td>50</td>\n",
       "      <td>0</td>\n",
       "      <td>0</td>\n",
       "      <td>20170104181517653.jpg.chip.jpg</td>\n",
       "      <td>[[95.0, 93.0, 93.0, 106.0, 160.0, 180.0, 184.0...</td>\n",
       "    </tr>\n",
       "    <tr>\n",
       "      <th>5273</th>\n",
       "      <td>24</td>\n",
       "      <td>2</td>\n",
       "      <td>1</td>\n",
       "      <td>20170116173419546.jpg.chip.jpg</td>\n",
       "      <td>[[19.0, 22.0, 33.0, 50.0, 74.0, 102.0, 123.0, ...</td>\n",
       "    </tr>\n",
       "  </tbody>\n",
       "</table>\n",
       "</div>"
      ],
      "text/plain": [
       "       age  ethnicity  gender                        img_name  \\\n",
       "13327   35          1       1  20170117154137390.jpg.chip.jpg   \n",
       "1216    10          4       1  20170104005649671.jpg.chip.jpg   \n",
       "7056    26          3       1  20170117153041485.jpg.chip.jpg   \n",
       "18424   50          0       0  20170104181517653.jpg.chip.jpg   \n",
       "5273    24          2       1  20170116173419546.jpg.chip.jpg   \n",
       "\n",
       "                                                  pixels  \n",
       "13327  [[0.0, 0.0, 0.0, 0.0, 0.0, 0.0, 0.0, 0.0, 0.0,...  \n",
       "1216   [[16.0, 13.0, 12.0, 10.0, 10.0, 14.0, 21.0, 29...  \n",
       "7056   [[37.0, 23.0, 14.0, 16.0, 18.0, 15.0, 16.0, 28...  \n",
       "18424  [[95.0, 93.0, 93.0, 106.0, 160.0, 180.0, 184.0...  \n",
       "5273   [[19.0, 22.0, 33.0, 50.0, 74.0, 102.0, 123.0, ...  "
      ]
     },
     "execution_count": 18,
     "metadata": {},
     "output_type": "execute_result"
    }
   ],
   "source": [
    "full_dataset.head()"
   ]
  },
  {
   "cell_type": "code",
   "execution_count": 19,
   "metadata": {
    "execution": {
     "iopub.execute_input": "2020-12-08T11:51:56.859321Z",
     "iopub.status.busy": "2020-12-08T11:51:56.859094Z",
     "iopub.status.idle": "2020-12-08T11:51:57.162264Z",
     "shell.execute_reply": "2020-12-08T11:51:57.161633Z",
     "shell.execute_reply.started": "2020-12-08T11:51:56.859300Z"
    }
   },
   "outputs": [
    {
     "data": {
      "text/html": [
       "<div>\n",
       "<style scoped>\n",
       "    .dataframe tbody tr th:only-of-type {\n",
       "        vertical-align: middle;\n",
       "    }\n",
       "\n",
       "    .dataframe tbody tr th {\n",
       "        vertical-align: top;\n",
       "    }\n",
       "\n",
       "    .dataframe thead th {\n",
       "        text-align: right;\n",
       "    }\n",
       "</style>\n",
       "<table border=\"1\" class=\"dataframe\">\n",
       "  <thead>\n",
       "    <tr style=\"text-align: right;\">\n",
       "      <th></th>\n",
       "      <th>age</th>\n",
       "      <th>ethnicity</th>\n",
       "      <th>gender</th>\n",
       "      <th>img_name</th>\n",
       "      <th>pixels</th>\n",
       "    </tr>\n",
       "  </thead>\n",
       "  <tbody>\n",
       "    <tr>\n",
       "      <th>20402</th>\n",
       "      <td>6</td>\n",
       "      <td>3</td>\n",
       "      <td>1</td>\n",
       "      <td>20161220223138171.jpg.chip.jpg</td>\n",
       "      <td>[[34.0, 39.0, 43.0, 36.0, 48.0, 66.0, 89.0, 11...</td>\n",
       "    </tr>\n",
       "    <tr>\n",
       "      <th>17678</th>\n",
       "      <td>48</td>\n",
       "      <td>3</td>\n",
       "      <td>0</td>\n",
       "      <td>20170119181346742.jpg.chip.jpg</td>\n",
       "      <td>[[92.0, 85.0, 92.0, 106.0, 135.0, 148.0, 150.0...</td>\n",
       "    </tr>\n",
       "    <tr>\n",
       "      <th>7736</th>\n",
       "      <td>26</td>\n",
       "      <td>0</td>\n",
       "      <td>0</td>\n",
       "      <td>20170117195743604.jpg.chip.jpg</td>\n",
       "      <td>[[36.0, 42.0, 55.0, 49.0, 77.0, 94.0, 88.0, 88...</td>\n",
       "    </tr>\n",
       "    <tr>\n",
       "      <th>10200</th>\n",
       "      <td>29</td>\n",
       "      <td>1</td>\n",
       "      <td>0</td>\n",
       "      <td>20170113145429766.jpg.chip.jpg</td>\n",
       "      <td>[[254.0, 254.0, 255.0, 255.0, 255.0, 252.0, 24...</td>\n",
       "    </tr>\n",
       "    <tr>\n",
       "      <th>5019</th>\n",
       "      <td>24</td>\n",
       "      <td>0</td>\n",
       "      <td>0</td>\n",
       "      <td>20170114030346768.jpg.chip.jpg</td>\n",
       "      <td>[[56.0, 20.0, 17.0, 21.0, 18.0, 18.0, 18.0, 24...</td>\n",
       "    </tr>\n",
       "    <tr>\n",
       "      <th>...</th>\n",
       "      <td>...</td>\n",
       "      <td>...</td>\n",
       "      <td>...</td>\n",
       "      <td>...</td>\n",
       "      <td>...</td>\n",
       "    </tr>\n",
       "    <tr>\n",
       "      <th>19765</th>\n",
       "      <td>56</td>\n",
       "      <td>0</td>\n",
       "      <td>1</td>\n",
       "      <td>20170109221138733.jpg.chip.jpg</td>\n",
       "      <td>[[18.0, 19.0, 35.0, 16.0, 22.0, 45.0, 72.0, 10...</td>\n",
       "    </tr>\n",
       "    <tr>\n",
       "      <th>3063</th>\n",
       "      <td>2</td>\n",
       "      <td>2</td>\n",
       "      <td>1</td>\n",
       "      <td>20161219141208216.jpg.chip.jpg</td>\n",
       "      <td>[[243.0, 164.0, 66.0, 23.0, 49.0, 80.0, 71.0, ...</td>\n",
       "    </tr>\n",
       "    <tr>\n",
       "      <th>15364</th>\n",
       "      <td>4</td>\n",
       "      <td>2</td>\n",
       "      <td>0</td>\n",
       "      <td>20161219200024691.jpg.chip.jpg</td>\n",
       "      <td>[[23.0, 25.0, 39.0, 54.0, 70.0, 81.0, 84.0, 89...</td>\n",
       "    </tr>\n",
       "    <tr>\n",
       "      <th>7990</th>\n",
       "      <td>26</td>\n",
       "      <td>0</td>\n",
       "      <td>1</td>\n",
       "      <td>20170117175317465.jpg.chip.jpg</td>\n",
       "      <td>[[172.0, 172.0, 171.0, 173.0, 170.0, 170.0, 17...</td>\n",
       "    </tr>\n",
       "    <tr>\n",
       "      <th>18600</th>\n",
       "      <td>52</td>\n",
       "      <td>0</td>\n",
       "      <td>0</td>\n",
       "      <td>20170113183829983.jpg.chip.jpg</td>\n",
       "      <td>[[101.0, 141.0, 198.0, 232.0, 238.0, 235.0, 22...</td>\n",
       "    </tr>\n",
       "  </tbody>\n",
       "</table>\n",
       "<p>4741 rows × 5 columns</p>\n",
       "</div>"
      ],
      "text/plain": [
       "       age  ethnicity  gender                        img_name  \\\n",
       "20402    6          3       1  20161220223138171.jpg.chip.jpg   \n",
       "17678   48          3       0  20170119181346742.jpg.chip.jpg   \n",
       "7736    26          0       0  20170117195743604.jpg.chip.jpg   \n",
       "10200   29          1       0  20170113145429766.jpg.chip.jpg   \n",
       "5019    24          0       0  20170114030346768.jpg.chip.jpg   \n",
       "...    ...        ...     ...                             ...   \n",
       "19765   56          0       1  20170109221138733.jpg.chip.jpg   \n",
       "3063     2          2       1  20161219141208216.jpg.chip.jpg   \n",
       "15364    4          2       0  20161219200024691.jpg.chip.jpg   \n",
       "7990    26          0       1  20170117175317465.jpg.chip.jpg   \n",
       "18600   52          0       0  20170113183829983.jpg.chip.jpg   \n",
       "\n",
       "                                                  pixels  \n",
       "20402  [[34.0, 39.0, 43.0, 36.0, 48.0, 66.0, 89.0, 11...  \n",
       "17678  [[92.0, 85.0, 92.0, 106.0, 135.0, 148.0, 150.0...  \n",
       "7736   [[36.0, 42.0, 55.0, 49.0, 77.0, 94.0, 88.0, 88...  \n",
       "10200  [[254.0, 254.0, 255.0, 255.0, 255.0, 252.0, 24...  \n",
       "5019   [[56.0, 20.0, 17.0, 21.0, 18.0, 18.0, 18.0, 24...  \n",
       "...                                                  ...  \n",
       "19765  [[18.0, 19.0, 35.0, 16.0, 22.0, 45.0, 72.0, 10...  \n",
       "3063   [[243.0, 164.0, 66.0, 23.0, 49.0, 80.0, 71.0, ...  \n",
       "15364  [[23.0, 25.0, 39.0, 54.0, 70.0, 81.0, 84.0, 89...  \n",
       "7990   [[172.0, 172.0, 171.0, 173.0, 170.0, 170.0, 17...  \n",
       "18600  [[101.0, 141.0, 198.0, 232.0, 238.0, 235.0, 22...  \n",
       "\n",
       "[4741 rows x 5 columns]"
      ]
     },
     "execution_count": 19,
     "metadata": {},
     "output_type": "execute_result"
    }
   ],
   "source": [
    "strat_test_set"
   ]
  },
  {
   "cell_type": "code",
   "execution_count": 20,
   "metadata": {
    "execution": {
     "iopub.execute_input": "2020-12-08T11:52:05.556449Z",
     "iopub.status.busy": "2020-12-08T11:52:05.556109Z",
     "iopub.status.idle": "2020-12-08T11:52:05.672387Z",
     "shell.execute_reply": "2020-12-08T11:52:05.671763Z",
     "shell.execute_reply.started": "2020-12-08T11:52:05.556417Z"
    }
   },
   "outputs": [],
   "source": [
    "full_dataset['pixels'] = full_dataset['pixels'].apply(lambda x: x/255)\n",
    "\n",
    "## calculating distributions\n",
    "age_dist = full_dataset['age'].value_counts()\n",
    "#print(age_dist)\n",
    "ethnicity_dist = full_dataset['ethnicity'].value_counts()\n",
    "#print(ethnicity_dist)\n",
    "gender_dist = full_dataset['gender'].value_counts().rename(index={0:'Male',1:'Female'})\n",
    "#print(gender_dist)"
   ]
  },
  {
   "cell_type": "code",
   "execution_count": 21,
   "metadata": {
    "execution": {
     "iopub.execute_input": "2020-12-08T11:52:06.236741Z",
     "iopub.status.busy": "2020-12-08T11:52:06.236400Z",
     "iopub.status.idle": "2020-12-08T11:52:06.331945Z",
     "shell.execute_reply": "2020-12-08T11:52:06.331291Z",
     "shell.execute_reply.started": "2020-12-08T11:52:06.236707Z"
    }
   },
   "outputs": [],
   "source": [
    "X = np.array(full_dataset['pixels'].tolist())\n",
    "\n",
    "## Converting pixels from 1D to 3D\n",
    "X = X.reshape(X.shape[0],48,48,1)"
   ]
  },
  {
   "cell_type": "code",
   "execution_count": 22,
   "metadata": {
    "execution": {
     "iopub.execute_input": "2020-12-08T11:52:06.897499Z",
     "iopub.status.busy": "2020-12-08T11:52:06.897269Z",
     "iopub.status.idle": "2020-12-08T11:52:06.985903Z",
     "shell.execute_reply": "2020-12-08T11:52:06.985082Z",
     "shell.execute_reply.started": "2020-12-08T11:52:06.897477Z"
    }
   },
   "outputs": [
    {
     "name": "stdout",
     "output_type": "stream",
     "text": [
      "X (23705, 48, 48, 1)\n",
      "y_age (23705,)\n",
      "y_gender (23705,)\n"
     ]
    }
   ],
   "source": [
    "\n",
    "# split the data into train ad test\n",
    "np.random.seed(42)\n",
    "y_age = np.array(full_dataset['age'])\n",
    "y_gender = np.array(full_dataset['gender'])\n",
    "print('X',X.shape)\n",
    "print('y_age',y_age.shape)\n",
    "print('y_gender',y_gender.shape)\n",
    "\n",
    "X_train, X_test, y_age_train, y_age_test, y_gender_train, y_gender_test = train_test_split(X,y_age, y_gender, test_size=0.2, random_state=42)\n"
   ]
  },
  {
   "cell_type": "code",
   "execution_count": 23,
   "metadata": {
    "execution": {
     "iopub.execute_input": "2020-12-08T11:52:23.923533Z",
     "iopub.status.busy": "2020-12-08T11:52:23.923190Z",
     "iopub.status.idle": "2020-12-08T11:52:23.928880Z",
     "shell.execute_reply": "2020-12-08T11:52:23.928089Z",
     "shell.execute_reply.started": "2020-12-08T11:52:23.923500Z"
    }
   },
   "outputs": [],
   "source": [
    "def plot(X,y):\n",
    "        plt.title(y)\n",
    "        plt.imshow(X.reshape(48,48))\n",
    "        plt.show()"
   ]
  },
  {
   "cell_type": "code",
   "execution_count": 24,
   "metadata": {
    "execution": {
     "iopub.execute_input": "2020-12-08T11:52:24.646250Z",
     "iopub.status.busy": "2020-12-08T11:52:24.645906Z",
     "iopub.status.idle": "2020-12-08T11:52:24.761450Z",
     "shell.execute_reply": "2020-12-08T11:52:24.760796Z",
     "shell.execute_reply.started": "2020-12-08T11:52:24.646217Z"
    }
   },
   "outputs": [
    {
     "data": {
      "image/png": "[encoded data removed]",
      "text/plain": [
       "<Figure size 432x288 with 1 Axes>"
      ]
     },
     "metadata": {
      "needs_background": "light"
     },
     "output_type": "display_data"
    }
   ],
   "source": [
    "plot(full_dataset['pixels'][50],full_dataset['gender'][10])"
   ]
  },
  {
   "cell_type": "code",
   "execution_count": 25,
   "metadata": {
    "execution": {
     "iopub.execute_input": "2020-12-08T11:55:34.621824Z",
     "iopub.status.busy": "2020-12-08T11:55:34.621467Z",
     "iopub.status.idle": "2020-12-08T11:55:35.944901Z",
     "shell.execute_reply": "2020-12-08T11:55:35.944130Z",
     "shell.execute_reply.started": "2020-12-08T11:55:34.621790Z"
    }
   },
   "outputs": [],
   "source": [
    "import tensorflow.keras.layers as L\n",
    "\n",
    "tf.keras.backend.clear_session()\n",
    "\n",
    "AgeModel = tf.keras.Sequential([\n",
    "    L.InputLayer(input_shape=(48,48,1)),\n",
    "    L.Conv2D(32, (3, 3), activation='relu', input_shape=(32, 32, 3)),\n",
    "    L.BatchNormalization(),\n",
    "    L.MaxPooling2D((2, 2)),\n",
    "    L.Conv2D(64, (3, 3), activation='relu'),\n",
    "    L.MaxPooling2D((2, 2)),\n",
    "    L.Flatten(),\n",
    "    L.Dense(64, activation='relu'),\n",
    "    L.Dropout(rate=0.5),\n",
    "    L.Dense(1)\n",
    "])\n",
    "\n",
    "AgeModel.compile(optimizer='adam',\n",
    "              loss='mean_squared_error')\n",
    "\n"
   ]
  },
  {
   "cell_type": "code",
   "execution_count": 26,
   "metadata": {
    "execution": {
     "iopub.execute_input": "2020-12-08T11:55:54.451844Z",
     "iopub.status.busy": "2020-12-08T11:55:54.451477Z",
     "iopub.status.idle": "2020-12-08T11:55:54.461681Z",
     "shell.execute_reply": "2020-12-08T11:55:54.460873Z",
     "shell.execute_reply.started": "2020-12-08T11:55:54.451807Z"
    }
   },
   "outputs": [
    {
     "name": "stdout",
     "output_type": "stream",
     "text": [
      "Model: \"sequential\"\n",
      "_________________________________________________________________\n",
      "Layer (type)                 Output Shape              Param #   \n",
      "=================================================================\n",
      "conv2d (Conv2D)              (None, 46, 46, 32)        320       \n",
      "_________________________________________________________________\n",
      "batch_normalization (BatchNo (None, 46, 46, 32)        128       \n",
      "_________________________________________________________________\n",
      "max_pooling2d (MaxPooling2D) (None, 23, 23, 32)        0         \n",
      "_________________________________________________________________\n",
      "conv2d_1 (Conv2D)            (None, 21, 21, 64)        18496     \n",
      "_________________________________________________________________\n",
      "max_pooling2d_1 (MaxPooling2 (None, 10, 10, 64)        0         \n",
      "_________________________________________________________________\n",
      "flatten (Flatten)            (None, 6400)              0         \n",
      "_________________________________________________________________\n",
      "dense (Dense)                (None, 64)                409664    \n",
      "_________________________________________________________________\n",
      "dropout (Dropout)            (None, 64)                0         \n",
      "_________________________________________________________________\n",
      "dense_1 (Dense)              (None, 1)                 65        \n",
      "=================================================================\n",
      "Total params: 428,673\n",
      "Trainable params: 428,609\n",
      "Non-trainable params: 64\n",
      "_________________________________________________________________\n"
     ]
    }
   ],
   "source": [
    "AgeModel.summary()"
   ]
  },
  {
   "cell_type": "code",
   "execution_count": 29,
   "metadata": {
    "execution": {
     "iopub.execute_input": "2020-12-08T11:59:06.679786Z",
     "iopub.status.busy": "2020-12-08T11:59:06.679566Z",
     "iopub.status.idle": "2020-12-08T11:59:06.684310Z",
     "shell.execute_reply": "2020-12-08T11:59:06.683436Z",
     "shell.execute_reply.started": "2020-12-08T11:59:06.679764Z"
    }
   },
   "outputs": [],
   "source": [
    "checkpointer = ModelCheckpoint('ageModel.h5', monitor='val_loss', mode='min', verbose=2, save_best_only=True)"
   ]
  },
  {
   "cell_type": "code",
   "execution_count": 31,
   "metadata": {
    "execution": {
     "iopub.execute_input": "2020-12-08T11:59:18.725911Z",
     "iopub.status.busy": "2020-12-08T11:59:18.725578Z",
     "iopub.status.idle": "2020-12-08T12:02:40.462330Z",
     "shell.execute_reply": "2020-12-08T12:02:40.461468Z",
     "shell.execute_reply.started": "2020-12-08T11:59:18.725880Z"
    }
   },
   "outputs": [
    {
     "name": "stdout",
     "output_type": "stream",
     "text": [
      "Epoch 1/50\n",
      "238/238 [==============================] - ETA: 0s - loss: 310.1414\n",
      "Epoch 00001: val_loss improved from inf to 975.63641, saving model to ageModel.h5\n",
      "238/238 [==============================] - 4s 19ms/step - loss: 310.1414 - val_loss: 975.6364\n",
      "Epoch 2/50\n",
      "236/238 [============================>.] - ETA: 0s - loss: 196.8810\n",
      "Epoch 00002: val_loss improved from 975.63641 to 394.15063, saving model to ageModel.h5\n",
      "238/238 [==============================] - 4s 17ms/step - loss: 196.7776 - val_loss: 394.1506\n",
      "Epoch 3/50\n",
      "238/238 [==============================] - ETA: 0s - loss: 171.1606\n",
      "Epoch 00003: val_loss improved from 394.15063 to 197.25926, saving model to ageModel.h5\n",
      "238/238 [==============================] - 4s 17ms/step - loss: 171.1606 - val_loss: 197.2593\n",
      "Epoch 4/50\n",
      "236/238 [============================>.] - ETA: 0s - loss: 156.8952\n",
      "Epoch 00004: val_loss improved from 197.25926 to 154.32248, saving model to ageModel.h5\n",
      "238/238 [==============================] - 4s 17ms/step - loss: 156.7429 - val_loss: 154.3225\n",
      "Epoch 5/50\n",
      "235/238 [============================>.] - ETA: 0s - loss: 153.3473\n",
      "Epoch 00005: val_loss did not improve from 154.32248\n",
      "238/238 [==============================] - 4s 17ms/step - loss: 153.5102 - val_loss: 510.9099\n",
      "Epoch 6/50\n",
      "238/238 [==============================] - ETA: 0s - loss: 147.1070\n",
      "Epoch 00006: val_loss improved from 154.32248 to 100.52703, saving model to ageModel.h5\n",
      "238/238 [==============================] - 4s 17ms/step - loss: 147.1070 - val_loss: 100.5270\n",
      "Epoch 7/50\n",
      "235/238 [============================>.] - ETA: 0s - loss: 137.8506\n",
      "Epoch 00007: val_loss did not improve from 100.52703\n",
      "238/238 [==============================] - 4s 16ms/step - loss: 137.7993 - val_loss: 154.5788\n",
      "Epoch 8/50\n",
      "235/238 [============================>.] - ETA: 0s - loss: 139.1173\n",
      "Epoch 00008: val_loss did not improve from 100.52703\n",
      "238/238 [==============================] - 4s 17ms/step - loss: 138.8964 - val_loss: 117.4487\n",
      "Epoch 9/50\n",
      "234/238 [============================>.] - ETA: 0s - loss: 138.3927\n",
      "Epoch 00009: val_loss did not improve from 100.52703\n",
      "238/238 [==============================] - 4s 17ms/step - loss: 138.3345 - val_loss: 106.6120\n",
      "Epoch 10/50\n",
      "236/238 [============================>.] - ETA: 0s - loss: 130.8003\n",
      "Epoch 00010: val_loss improved from 100.52703 to 98.77668, saving model to ageModel.h5\n",
      "238/238 [==============================] - 4s 17ms/step - loss: 130.5826 - val_loss: 98.7767\n",
      "Epoch 11/50\n",
      "238/238 [==============================] - ETA: 0s - loss: 122.2998\n",
      "Epoch 00011: val_loss did not improve from 98.77668\n",
      "238/238 [==============================] - 4s 17ms/step - loss: 122.2998 - val_loss: 129.2100\n",
      "Epoch 12/50\n",
      "235/238 [============================>.] - ETA: 0s - loss: 124.8737\n",
      "Epoch 00012: val_loss did not improve from 98.77668\n",
      "238/238 [==============================] - 4s 16ms/step - loss: 124.7216 - val_loss: 140.1201\n",
      "Epoch 13/50\n",
      "238/238 [==============================] - ETA: 0s - loss: 119.5044\n",
      "Epoch 00013: val_loss did not improve from 98.77668\n",
      "238/238 [==============================] - 4s 17ms/step - loss: 119.5044 - val_loss: 102.3911\n",
      "Epoch 14/50\n",
      "235/238 [============================>.] - ETA: 0s - loss: 118.0221\n",
      "Epoch 00014: val_loss did not improve from 98.77668\n",
      "238/238 [==============================] - 4s 17ms/step - loss: 117.9051 - val_loss: 101.2477\n",
      "Epoch 15/50\n",
      "238/238 [==============================] - ETA: 0s - loss: 111.5992\n",
      "Epoch 00015: val_loss did not improve from 98.77668\n",
      "238/238 [==============================] - 4s 16ms/step - loss: 111.5992 - val_loss: 104.7514\n",
      "Epoch 16/50\n",
      "237/238 [============================>.] - ETA: 0s - loss: 109.3952\n",
      "Epoch 00016: val_loss improved from 98.77668 to 92.68958, saving model to ageModel.h5\n",
      "238/238 [==============================] - 4s 17ms/step - loss: 109.4278 - val_loss: 92.6896\n",
      "Epoch 17/50\n",
      "238/238 [==============================] - ETA: 0s - loss: 110.7874\n",
      "Epoch 00017: val_loss did not improve from 92.68958\n",
      "238/238 [==============================] - 4s 16ms/step - loss: 110.7874 - val_loss: 212.0140\n",
      "Epoch 18/50\n",
      "238/238 [==============================] - ETA: 0s - loss: 107.0101\n",
      "Epoch 00018: val_loss did not improve from 92.68958\n",
      "238/238 [==============================] - 4s 17ms/step - loss: 107.0101 - val_loss: 155.8048\n",
      "Epoch 19/50\n",
      "236/238 [============================>.] - ETA: 0s - loss: 108.4861\n",
      "Epoch 00019: val_loss did not improve from 92.68958\n",
      "238/238 [==============================] - 4s 17ms/step - loss: 108.6424 - val_loss: 150.7029\n",
      "Epoch 20/50\n",
      "237/238 [============================>.] - ETA: 0s - loss: 102.4253\n",
      "Epoch 00020: val_loss did not improve from 92.68958\n",
      "238/238 [==============================] - 4s 17ms/step - loss: 102.4066 - val_loss: 126.9191\n",
      "Epoch 21/50\n",
      "235/238 [============================>.] - ETA: 0s - loss: 98.6466\n",
      "Epoch 00021: val_loss did not improve from 92.68958\n",
      "238/238 [==============================] - 4s 17ms/step - loss: 98.7869 - val_loss: 151.4557\n",
      "Epoch 22/50\n",
      "235/238 [============================>.] - ETA: 0s - loss: 100.5157\n",
      "Epoch 00022: val_loss did not improve from 92.68958\n",
      "238/238 [==============================] - 4s 17ms/step - loss: 100.3772 - val_loss: 110.8398\n",
      "Epoch 23/50\n",
      "235/238 [============================>.] - ETA: 0s - loss: 98.6053\n",
      "Epoch 00023: val_loss did not improve from 92.68958\n",
      "238/238 [==============================] - 4s 16ms/step - loss: 98.5800 - val_loss: 109.5513\n",
      "Epoch 24/50\n",
      "238/238 [==============================] - ETA: 0s - loss: 97.8725\n",
      "Epoch 00024: val_loss did not improve from 92.68958\n",
      "238/238 [==============================] - 4s 17ms/step - loss: 97.8725 - val_loss: 114.1149\n",
      "Epoch 25/50\n",
      "235/238 [============================>.] - ETA: 0s - loss: 96.5815\n",
      "Epoch 00025: val_loss did not improve from 92.68958\n",
      "238/238 [==============================] - 4s 16ms/step - loss: 96.5562 - val_loss: 96.2921\n",
      "Epoch 26/50\n",
      "236/238 [============================>.] - ETA: 0s - loss: 92.9859\n",
      "Epoch 00026: val_loss did not improve from 92.68958\n",
      "238/238 [==============================] - 4s 16ms/step - loss: 93.0654 - val_loss: 102.0858\n",
      "Epoch 27/50\n",
      "235/238 [============================>.] - ETA: 0s - loss: 90.2944\n",
      "Epoch 00027: val_loss did not improve from 92.68958\n",
      "238/238 [==============================] - 4s 17ms/step - loss: 90.1164 - val_loss: 95.2319\n",
      "Epoch 28/50\n",
      "238/238 [==============================] - ETA: 0s - loss: 93.7096\n",
      "Epoch 00028: val_loss did not improve from 92.68958\n",
      "238/238 [==============================] - 4s 17ms/step - loss: 93.7096 - val_loss: 94.1638\n",
      "Epoch 29/50\n",
      "236/238 [============================>.] - ETA: 0s - loss: 89.2128\n",
      "Epoch 00029: val_loss did not improve from 92.68958\n",
      "238/238 [==============================] - 4s 17ms/step - loss: 89.3700 - val_loss: 112.9899\n",
      "Epoch 30/50\n",
      "237/238 [============================>.] - ETA: 0s - loss: 92.1132\n",
      "Epoch 00030: val_loss did not improve from 92.68958\n",
      "238/238 [==============================] - 4s 16ms/step - loss: 92.0976 - val_loss: 125.2178\n",
      "Epoch 31/50\n",
      "236/238 [============================>.] - ETA: 0s - loss: 87.3990\n",
      "Epoch 00031: val_loss did not improve from 92.68958\n",
      "238/238 [==============================] - 4s 16ms/step - loss: 87.4722 - val_loss: 145.0051\n",
      "Epoch 32/50\n",
      "235/238 [============================>.] - ETA: 0s - loss: 88.5503\n",
      "Epoch 00032: val_loss did not improve from 92.68958\n",
      "238/238 [==============================] - 4s 17ms/step - loss: 88.5288 - val_loss: 109.7080\n",
      "Epoch 33/50\n",
      "237/238 [============================>.] - ETA: 0s - loss: 87.3071\n",
      "Epoch 00033: val_loss did not improve from 92.68958\n",
      "238/238 [==============================] - 4s 16ms/step - loss: 87.3137 - val_loss: 154.8747\n",
      "Epoch 34/50\n",
      "235/238 [============================>.] - ETA: 0s - loss: 85.1281\n",
      "Epoch 00034: val_loss did not improve from 92.68958\n",
      "238/238 [==============================] - 4s 17ms/step - loss: 84.9296 - val_loss: 105.8842\n",
      "Epoch 35/50\n",
      "237/238 [============================>.] - ETA: 0s - loss: 84.9211\n",
      "Epoch 00035: val_loss did not improve from 92.68958\n",
      "238/238 [==============================] - 4s 16ms/step - loss: 84.9354 - val_loss: 136.2701\n",
      "Epoch 36/50\n",
      "235/238 [============================>.] - ETA: 0s - loss: 87.7263\n",
      "Epoch 00036: val_loss did not improve from 92.68958\n",
      "238/238 [==============================] - 4s 16ms/step - loss: 87.6000 - val_loss: 99.9983\n",
      "Epoch 37/50\n",
      "236/238 [============================>.] - ETA: 0s - loss: 81.0716\n",
      "Epoch 00037: val_loss did not improve from 92.68958\n",
      "238/238 [==============================] - 4s 17ms/step - loss: 81.0592 - val_loss: 103.0949\n",
      "Epoch 38/50\n",
      "235/238 [============================>.] - ETA: 0s - loss: 80.3065\n",
      "Epoch 00038: val_loss did not improve from 92.68958\n",
      "238/238 [==============================] - 4s 17ms/step - loss: 80.3128 - val_loss: 102.8501\n",
      "Epoch 39/50\n",
      "238/238 [==============================] - ETA: 0s - loss: 80.7142\n",
      "Epoch 00039: val_loss did not improve from 92.68958\n",
      "238/238 [==============================] - 4s 17ms/step - loss: 80.7142 - val_loss: 101.2249\n",
      "Epoch 40/50\n",
      "238/238 [==============================] - ETA: 0s - loss: 79.4893\n",
      "Epoch 00040: val_loss did not improve from 92.68958\n",
      "238/238 [==============================] - 4s 17ms/step - loss: 79.4893 - val_loss: 106.4332\n",
      "Epoch 41/50\n",
      "237/238 [============================>.] - ETA: 0s - loss: 80.3962\n",
      "Epoch 00041: val_loss did not improve from 92.68958\n",
      "238/238 [==============================] - 4s 17ms/step - loss: 80.3858 - val_loss: 108.1053\n",
      "Epoch 42/50\n",
      "237/238 [============================>.] - ETA: 0s - loss: 80.3265\n",
      "Epoch 00042: val_loss did not improve from 92.68958\n",
      "238/238 [==============================] - 4s 17ms/step - loss: 80.3133 - val_loss: 108.1900\n",
      "Epoch 43/50\n",
      "235/238 [============================>.] - ETA: 0s - loss: 76.8676\n",
      "Epoch 00043: val_loss did not improve from 92.68958\n",
      "238/238 [==============================] - 4s 17ms/step - loss: 76.9086 - val_loss: 114.8870\n",
      "Epoch 44/50\n",
      "236/238 [============================>.] - ETA: 0s - loss: 77.5425\n",
      "Epoch 00044: val_loss did not improve from 92.68958\n",
      "238/238 [==============================] - 4s 17ms/step - loss: 77.5330 - val_loss: 98.4497\n",
      "Epoch 45/50\n",
      "237/238 [============================>.] - ETA: 0s - loss: 76.0372\n",
      "Epoch 00045: val_loss did not improve from 92.68958\n",
      "238/238 [==============================] - 4s 17ms/step - loss: 76.0266 - val_loss: 110.5794\n",
      "Epoch 46/50\n",
      "237/238 [============================>.] - ETA: 0s - loss: 73.3783\n",
      "Epoch 00046: val_loss did not improve from 92.68958\n",
      "238/238 [==============================] - 4s 17ms/step - loss: 73.3743 - val_loss: 124.8518\n",
      "Epoch 47/50\n",
      "238/238 [==============================] - ETA: 0s - loss: 76.1641\n",
      "Epoch 00047: val_loss did not improve from 92.68958\n",
      "238/238 [==============================] - 4s 16ms/step - loss: 76.1641 - val_loss: 130.1413\n",
      "Epoch 48/50\n",
      "238/238 [==============================] - ETA: 0s - loss: 77.3177\n",
      "Epoch 00048: val_loss did not improve from 92.68958\n",
      "238/238 [==============================] - 4s 17ms/step - loss: 77.3177 - val_loss: 111.8347\n",
      "Epoch 49/50\n",
      "235/238 [============================>.] - ETA: 0s - loss: 74.7062\n",
      "Epoch 00049: val_loss did not improve from 92.68958\n",
      "238/238 [==============================] - 4s 17ms/step - loss: 74.6777 - val_loss: 109.7132\n",
      "Epoch 50/50\n",
      "235/238 [============================>.] - ETA: 0s - loss: 74.3723\n",
      "Epoch 00050: val_loss did not improve from 92.68958\n",
      "238/238 [==============================] - 4s 17ms/step - loss: 74.3213 - val_loss: 100.3809\n"
     ]
    }
   ],
   "source": [
    "history = AgeModel.fit(X_train, y_age_train, epochs=50, validation_split=0.2, batch_size=64,callbacks=[checkpointer])"
   ]
  },
  {
   "cell_type": "code",
   "execution_count": 32,
   "metadata": {
    "execution": {
     "iopub.execute_input": "2020-12-08T12:02:54.597932Z",
     "iopub.status.busy": "2020-12-08T12:02:54.597581Z",
     "iopub.status.idle": "2020-12-08T12:02:54.730415Z",
     "shell.execute_reply": "2020-12-08T12:02:54.729877Z",
     "shell.execute_reply.started": "2020-12-08T12:02:54.597889Z"
    }
   },
   "outputs": [
    {
     "data": {
      "image/png": "[encoded data removed]",
      "text/plain": [
       "<Figure size 576x360 with 1 Axes>"
      ]
     },
     "metadata": {
      "needs_background": "light"
     },
     "output_type": "display_data"
    }
   ],
   "source": [
    "pd.DataFrame(history.history).plot(figsize=(8, 5))\n",
    "plt.grid(True)\n",
    "plt.show()"
   ]
  },
  {
   "cell_type": "code",
   "execution_count": 33,
   "metadata": {
    "execution": {
     "iopub.execute_input": "2020-12-08T12:03:01.381557Z",
     "iopub.status.busy": "2020-12-08T12:03:01.381212Z",
     "iopub.status.idle": "2020-12-08T12:03:02.610512Z",
     "shell.execute_reply": "2020-12-08T12:03:02.609375Z",
     "shell.execute_reply.started": "2020-12-08T12:03:01.381524Z"
    }
   },
   "outputs": [
    {
     "name": "stdout",
     "output_type": "stream",
     "text": [
      "149/149 [==============================] - 1s 7ms/step - loss: 98.4495\n"
     ]
    },
    {
     "data": {
      "text/plain": [
       "98.44949340820312"
      ]
     },
     "execution_count": 33,
     "metadata": {},
     "output_type": "execute_result"
    }
   ],
   "source": [
    "AgeModel.evaluate(X_test,y_age_test)"
   ]
  },
  {
   "cell_type": "code",
   "execution_count": 34,
   "metadata": {
    "execution": {
     "iopub.execute_input": "2020-12-08T12:03:08.053569Z",
     "iopub.status.busy": "2020-12-08T12:03:08.053197Z",
     "iopub.status.idle": "2020-12-08T12:03:08.060741Z",
     "shell.execute_reply": "2020-12-08T12:03:08.060089Z",
     "shell.execute_reply.started": "2020-12-08T12:03:08.053534Z"
    }
   },
   "outputs": [
    {
     "data": {
      "text/plain": [
       "array([90, 37, 35, 24, 40, 24, 21, 40, 54, 57])"
      ]
     },
     "execution_count": 34,
     "metadata": {},
     "output_type": "execute_result"
    }
   ],
   "source": [
    "y_age_test[:10]"
   ]
  },
  {
   "cell_type": "code",
   "execution_count": 35,
   "metadata": {
    "execution": {
     "iopub.execute_input": "2020-12-08T12:03:25.944230Z",
     "iopub.status.busy": "2020-12-08T12:03:25.944004Z",
     "iopub.status.idle": "2020-12-08T12:03:26.209182Z",
     "shell.execute_reply": "2020-12-08T12:03:26.208514Z",
     "shell.execute_reply.started": "2020-12-08T12:03:25.944209Z"
    }
   },
   "outputs": [
    {
     "data": {
      "text/plain": [
       "array([[94.],\n",
       "       [24.],\n",
       "       [37.],\n",
       "       [28.],\n",
       "       [24.],\n",
       "       [31.],\n",
       "       [30.],\n",
       "       [25.],\n",
       "       [60.],\n",
       "       [48.]], dtype=float32)"
      ]
     },
     "execution_count": 35,
     "metadata": {},
     "output_type": "execute_result"
    }
   ],
   "source": [
    "y_age_pred = AgeModel.predict(X_test[:10])\n",
    "np.round(y_age_pred)"
   ]
  },
  {
   "cell_type": "code",
   "execution_count": 39,
   "metadata": {
    "execution": {
     "iopub.execute_input": "2020-12-08T12:07:01.618802Z",
     "iopub.status.busy": "2020-12-08T12:07:01.618577Z",
     "iopub.status.idle": "2020-12-08T12:07:01.775800Z",
     "shell.execute_reply": "2020-12-08T12:07:01.775209Z",
     "shell.execute_reply.started": "2020-12-08T12:07:01.618780Z"
    }
   },
   "outputs": [],
   "source": [
    "##Gender Model\n",
    "tf.keras.backend.clear_session()\n",
    "GenderModel = tf.keras.Sequential([\n",
    "    L.InputLayer(input_shape=(48,48,1)),\n",
    "    L.Conv2D(32, (3, 3), activation='relu', input_shape=(32, 32, 3)),\n",
    "    L.BatchNormalization(),\n",
    "    L.MaxPooling2D((2, 2)),\n",
    "    L.Conv2D(64, (3, 3), activation='relu'),\n",
    "    L.MaxPooling2D((2, 2)),\n",
    "    L.Flatten(),\n",
    "    L.Dense(64, activation='relu'),\n",
    "    L.Dropout(rate=0.5),\n",
    "    L.Dense(1, activation='sigmoid')\n",
    "])\n",
    "\n",
    "GenderModel.compile(optimizer='adam',\n",
    "              loss=tf.keras.losses.BinaryCrossentropy(),\n",
    "              metrics=['accuracy'])\n"
   ]
  },
  {
   "cell_type": "code",
   "execution_count": 40,
   "metadata": {
    "execution": {
     "iopub.execute_input": "2020-12-08T12:07:02.797555Z",
     "iopub.status.busy": "2020-12-08T12:07:02.797334Z",
     "iopub.status.idle": "2020-12-08T12:07:02.805606Z",
     "shell.execute_reply": "2020-12-08T12:07:02.804965Z",
     "shell.execute_reply.started": "2020-12-08T12:07:02.797535Z"
    }
   },
   "outputs": [
    {
     "name": "stdout",
     "output_type": "stream",
     "text": [
      "Model: \"sequential\"\n",
      "_________________________________________________________________\n",
      "Layer (type)                 Output Shape              Param #   \n",
      "=================================================================\n",
      "conv2d (Conv2D)              (None, 46, 46, 32)        320       \n",
      "_________________________________________________________________\n",
      "batch_normalization (BatchNo (None, 46, 46, 32)        128       \n",
      "_________________________________________________________________\n",
      "max_pooling2d (MaxPooling2D) (None, 23, 23, 32)        0         \n",
      "_________________________________________________________________\n",
      "conv2d_1 (Conv2D)            (None, 21, 21, 64)        18496     \n",
      "_________________________________________________________________\n",
      "max_pooling2d_1 (MaxPooling2 (None, 10, 10, 64)        0         \n",
      "_________________________________________________________________\n",
      "flatten (Flatten)            (None, 6400)              0         \n",
      "_________________________________________________________________\n",
      "dense (Dense)                (None, 64)                409664    \n",
      "_________________________________________________________________\n",
      "dropout (Dropout)            (None, 64)                0         \n",
      "_________________________________________________________________\n",
      "dense_1 (Dense)              (None, 1)                 65        \n",
      "=================================================================\n",
      "Total params: 428,673\n",
      "Trainable params: 428,609\n",
      "Non-trainable params: 64\n",
      "_________________________________________________________________\n"
     ]
    }
   ],
   "source": [
    "GenderModel.summary()"
   ]
  },
  {
   "cell_type": "code",
   "execution_count": 41,
   "metadata": {
    "execution": {
     "iopub.execute_input": "2020-12-08T12:07:09.023703Z",
     "iopub.status.busy": "2020-12-08T12:07:09.023478Z",
     "iopub.status.idle": "2020-12-08T12:08:20.156437Z",
     "shell.execute_reply": "2020-12-08T12:08:20.155737Z",
     "shell.execute_reply.started": "2020-12-08T12:07:09.023682Z"
    }
   },
   "outputs": [
    {
     "name": "stdout",
     "output_type": "stream",
     "text": [
      "Epoch 1/18\n",
      "238/238 [==============================] - 4s 17ms/step - loss: 0.4367 - accuracy: 0.7912 - val_loss: 0.6143 - val_accuracy: 0.8205\n",
      "Epoch 2/18\n",
      "238/238 [==============================] - 4s 16ms/step - loss: 0.3121 - accuracy: 0.8650 - val_loss: 0.3489 - val_accuracy: 0.8869\n",
      "Epoch 3/18\n",
      "238/238 [==============================] - 4s 16ms/step - loss: 0.2762 - accuracy: 0.8812 - val_loss: 0.2830 - val_accuracy: 0.8911\n",
      "Epoch 4/18\n",
      "238/238 [==============================] - 4s 16ms/step - loss: 0.2526 - accuracy: 0.8912 - val_loss: 0.2362 - val_accuracy: 0.8895\n",
      "Epoch 5/18\n",
      "238/238 [==============================] - 4s 16ms/step - loss: 0.2309 - accuracy: 0.9013 - val_loss: 0.2932 - val_accuracy: 0.8901\n",
      "Epoch 6/18\n",
      "238/238 [==============================] - 4s 16ms/step - loss: 0.2175 - accuracy: 0.9055 - val_loss: 0.2526 - val_accuracy: 0.8945\n",
      "Epoch 7/18\n",
      "238/238 [==============================] - 4s 16ms/step - loss: 0.2010 - accuracy: 0.9145 - val_loss: 0.2331 - val_accuracy: 0.8969\n",
      "Epoch 8/18\n",
      "238/238 [==============================] - 4s 16ms/step - loss: 0.1962 - accuracy: 0.9122 - val_loss: 0.2460 - val_accuracy: 0.8903\n",
      "Epoch 9/18\n",
      "238/238 [==============================] - 4s 16ms/step - loss: 0.1731 - accuracy: 0.9250 - val_loss: 0.2391 - val_accuracy: 0.9022\n",
      "Epoch 10/18\n",
      "238/238 [==============================] - 4s 16ms/step - loss: 0.1715 - accuracy: 0.9284 - val_loss: 0.2427 - val_accuracy: 0.8977\n",
      "Epoch 11/18\n",
      "238/238 [==============================] - 4s 16ms/step - loss: 0.1541 - accuracy: 0.9312 - val_loss: 0.2697 - val_accuracy: 0.8974\n",
      "Epoch 12/18\n",
      "238/238 [==============================] - 4s 16ms/step - loss: 0.1435 - accuracy: 0.9364 - val_loss: 0.2608 - val_accuracy: 0.9014\n",
      "Epoch 13/18\n",
      "238/238 [==============================] - 4s 16ms/step - loss: 0.1312 - accuracy: 0.9407 - val_loss: 0.2739 - val_accuracy: 0.9017\n",
      "Epoch 14/18\n",
      "238/238 [==============================] - 4s 16ms/step - loss: 0.1453 - accuracy: 0.9359 - val_loss: 0.2958 - val_accuracy: 0.8924\n",
      "Epoch 15/18\n",
      "238/238 [==============================] - 4s 16ms/step - loss: 0.1237 - accuracy: 0.9437 - val_loss: 0.2955 - val_accuracy: 0.8940\n",
      "Epoch 16/18\n",
      "238/238 [==============================] - 4s 16ms/step - loss: 0.1190 - accuracy: 0.9442 - val_loss: 0.3481 - val_accuracy: 0.8990\n",
      "Epoch 17/18\n",
      "238/238 [==============================] - 4s 16ms/step - loss: 0.1037 - accuracy: 0.9521 - val_loss: 0.3007 - val_accuracy: 0.8961\n",
      "Epoch 18/18\n",
      "238/238 [==============================] - 4s 16ms/step - loss: 0.1234 - accuracy: 0.9438 - val_loss: 0.3194 - val_accuracy: 0.8961\n"
     ]
    }
   ],
   "source": [
    "Gender_history = GenderModel.fit(\n",
    "    X_train, y_gender_train, epochs=18, validation_split=0.2, batch_size=64)"
   ]
  },
  {
   "cell_type": "code",
   "execution_count": 42,
   "metadata": {
    "execution": {
     "iopub.execute_input": "2020-12-08T12:09:04.146295Z",
     "iopub.status.busy": "2020-12-08T12:09:04.146073Z",
     "iopub.status.idle": "2020-12-08T12:09:04.319289Z",
     "shell.execute_reply": "2020-12-08T12:09:04.318725Z",
     "shell.execute_reply.started": "2020-12-08T12:09:04.146274Z"
    }
   },
   "outputs": [
    {
     "data": {
      "image/png": "[encoded data removed]",
      "text/plain": [
       "<Figure size 576x360 with 1 Axes>"
      ]
     },
     "metadata": {
      "needs_background": "light"
     },
     "output_type": "display_data"
    }
   ],
   "source": [
    "GenderModel.save(\"GenderModel.h5\")\n",
    "pd.DataFrame(Gender_history.history).plot(figsize=(8, 5))\n",
    "plt.grid(True)\n",
    "plt.show()"
   ]
  },
  {
   "cell_type": "markdown",
   "metadata": {},
   "source": [
    "**Measuring Accuracy Using Cross-Validation**"
   ]
  },
  {
   "cell_type": "code",
   "execution_count": 43,
   "metadata": {
    "execution": {
     "iopub.execute_input": "2020-12-08T12:09:14.353726Z",
     "iopub.status.busy": "2020-12-08T12:09:14.353484Z",
     "iopub.status.idle": "2020-12-08T12:09:15.173447Z",
     "shell.execute_reply": "2020-12-08T12:09:15.172493Z",
     "shell.execute_reply.started": "2020-12-08T12:09:14.353703Z"
    }
   },
   "outputs": [
    {
     "name": "stdout",
     "output_type": "stream",
     "text": [
      "Test loss: 0.37847667932510376\n",
      "Test Accuracy: 0.8909512758255005\n"
     ]
    }
   ],
   "source": [
    "loss, acc = GenderModel.evaluate(X_test,y_gender_test,verbose=0)\n",
    "print('Test loss: {}'.format(loss))\n",
    "print('Test Accuracy: {}'.format(acc))"
   ]
  },
  {
   "cell_type": "code",
   "execution_count": 44,
   "metadata": {
    "execution": {
     "iopub.execute_input": "2020-12-08T12:09:24.991598Z",
     "iopub.status.busy": "2020-12-08T12:09:24.991370Z",
     "iopub.status.idle": "2020-12-08T12:09:24.998023Z",
     "shell.execute_reply": "2020-12-08T12:09:24.997302Z",
     "shell.execute_reply.started": "2020-12-08T12:09:24.991577Z"
    }
   },
   "outputs": [
    {
     "data": {
      "text/plain": [
       "array([1, 1, 0, 1, 1, 1, 1, 1, 0, 0])"
      ]
     },
     "execution_count": 44,
     "metadata": {},
     "output_type": "execute_result"
    }
   ],
   "source": [
    "y_gender_test[:10]"
   ]
  },
  {
   "cell_type": "code",
   "execution_count": 45,
   "metadata": {
    "execution": {
     "iopub.execute_input": "2020-12-08T12:09:42.431086Z",
     "iopub.status.busy": "2020-12-08T12:09:42.430836Z",
     "iopub.status.idle": "2020-12-08T12:09:42.992308Z",
     "shell.execute_reply": "2020-12-08T12:09:42.991439Z",
     "shell.execute_reply.started": "2020-12-08T12:09:42.431061Z"
    }
   },
   "outputs": [
    {
     "data": {
      "text/plain": [
       "array([[1., 1., 0., ..., 0., 0., 0.]], dtype=float32)"
      ]
     },
     "execution_count": 45,
     "metadata": {},
     "output_type": "execute_result"
    }
   ],
   "source": [
    "y_gender_pred = GenderModel.predict(X_test)\n",
    "np.transpose(np.round(y_gender_pred))"
   ]
  },
  {
   "cell_type": "code",
   "execution_count": 46,
   "metadata": {
    "execution": {
     "iopub.execute_input": "2020-12-08T12:10:17.557891Z",
     "iopub.status.busy": "2020-12-08T12:10:17.557559Z",
     "iopub.status.idle": "2020-12-08T12:10:17.564027Z",
     "shell.execute_reply": "2020-12-08T12:10:17.563276Z",
     "shell.execute_reply.started": "2020-12-08T12:10:17.557858Z"
    }
   },
   "outputs": [],
   "source": [
    "def plot(X,y_age,y_gender):\n",
    "    if y_gender<=0.5:\n",
    "        plt.title('Gender is Male and Age is around ' +str(y_age))\n",
    "        \n",
    "    else:\n",
    "        plt.title('Gender is Female and Age is around ' +str(y_age))\n",
    "    plt.imshow(X.reshape(48,48))\n",
    "    plt.show()"
   ]
  },
  {
   "cell_type": "code",
   "execution_count": 47,
   "metadata": {
    "execution": {
     "iopub.execute_input": "2020-12-08T12:10:20.186845Z",
     "iopub.status.busy": "2020-12-08T12:10:20.186618Z",
     "iopub.status.idle": "2020-12-08T12:10:20.285552Z",
     "shell.execute_reply": "2020-12-08T12:10:20.284731Z",
     "shell.execute_reply.started": "2020-12-08T12:10:20.186825Z"
    }
   },
   "outputs": [
    {
     "data": {
      "image/png": "[encoded data removed]",
      "text/plain": [
       "<Figure size 432x288 with 1 Axes>"
      ]
     },
     "metadata": {
      "needs_background": "light"
     },
     "output_type": "display_data"
    }
   ],
   "source": [
    "n=2\n",
    "plot(X_test[n],int(y_age_pred[n]),y_gender_pred[n])"
   ]
  },
  {
   "cell_type": "code",
   "execution_count": 48,
   "metadata": {
    "execution": {
     "iopub.execute_input": "2020-12-08T12:10:51.317444Z",
     "iopub.status.busy": "2020-12-08T12:10:51.317205Z",
     "iopub.status.idle": "2020-12-08T12:10:51.431241Z",
     "shell.execute_reply": "2020-12-08T12:10:51.430618Z",
     "shell.execute_reply.started": "2020-12-08T12:10:51.317422Z"
    }
   },
   "outputs": [
    {
     "data": {
      "image/png": "[encoded data removed]",
      "text/plain": [
       "<Figure size 432x288 with 1 Axes>"
      ]
     },
     "metadata": {
      "needs_background": "light"
     },
     "output_type": "display_data"
    }
   ],
   "source": [
    "n=4\n",
    "plot(X_test[n],int(y_age_pred[n]),y_gender_pred[n])"
   ]
  },
  {
   "cell_type": "code",
   "execution_count": 50,
   "metadata": {
    "execution": {
     "iopub.execute_input": "2020-12-08T12:11:27.237933Z",
     "iopub.status.busy": "2020-12-08T12:11:27.237712Z",
     "iopub.status.idle": "2020-12-08T12:11:27.339461Z",
     "shell.execute_reply": "2020-12-08T12:11:27.338771Z",
     "shell.execute_reply.started": "2020-12-08T12:11:27.237913Z"
    }
   },
   "outputs": [
    {
     "data": {
      "image/png": "[encoded data removed]",
      "text/plain": [
       "<Figure size 432x288 with 1 Axes>"
      ]
     },
     "metadata": {
      "needs_background": "light"
     },
     "output_type": "display_data"
    }
   ],
   "source": [
    "n=9\n",
    "plot(X_test[n],int(y_age_pred[n]),y_gender_pred[n])"
   ]
  },
  {
   "cell_type": "code",
   "execution_count": 51,
   "metadata": {
    "execution": {
     "iopub.execute_input": "2020-12-08T12:11:49.912372Z",
     "iopub.status.busy": "2020-12-08T12:11:49.911983Z",
     "iopub.status.idle": "2020-12-08T12:12:01.573487Z",
     "shell.execute_reply": "2020-12-08T12:12:01.572785Z",
     "shell.execute_reply.started": "2020-12-08T12:11:49.912321Z"
    }
   },
   "outputs": [
    {
     "name": "stdout",
     "output_type": "stream",
     "text": [
      "\u001b[96m\u001b[1m[INFO]\u001b[0m\n",
      "Reading [keras model] 'ageModel.h5'\n",
      "\u001b[92m\u001b[1m[SUCCESS]\u001b[0m\n",
      "Saved 'ageModel.onnx'\n",
      "\u001b[96m\u001b[1m[INFO]\u001b[0m\n",
      "Reading [onnx model] 'ageModel.onnx'\n",
      "\u001b[96m\u001b[1m[INFO]\u001b[0m\n",
      "Model info:\n",
      "  ir_vesion : 5\n",
      "  doc       : \n",
      "\u001b[93m\u001b[1m[WARNING]\u001b[0m\n",
      "[ONNX]: terminal (input/output) input_1's shape is less than 1. Changing it to 1.\n",
      "\u001b[93m\u001b[1m[WARNING]\u001b[0m\n",
      "[ONNX]: terminal (input/output) dense_1's shape is less than 1. Changing it to 1.\n",
      "WARN (GRAPH): found operator node with the same name (dense_1) as io node.\n",
      "\u001b[96m\u001b[1m[INFO]\u001b[0m\n",
      "Running DNNC graph sanity check ...\n",
      "\u001b[92m\u001b[1m[SUCCESS]\u001b[0m\n",
      "Passed sanity check.\n",
      "\u001b[96m\u001b[1m[INFO]\u001b[0m\n",
      "Writing C++ file 'ageModel_deepC/ageModel.cpp'\n",
      "\u001b[96m\u001b[1m[INFO]\u001b[0m\n",
      "deepSea model files are ready in 'ageModel_deepC/' \n",
      "\u001b[96m\u001b[1m[RUNNING COMMAND]\u001b[0m\n",
      "g++ -std=c++11 -O3 -fno-rtti -fno-exceptions -I. -I/opt/tljh/user/lib/python3.7/site-packages/deepC-0.13-py3.7-linux-x86_64.egg/deepC/include -isystem /opt/tljh/user/lib/python3.7/site-packages/deepC-0.13-py3.7-linux-x86_64.egg/deepC/packages/eigen-eigen-323c052e1731 ageModel_deepC/ageModel.cpp -o ageModel_deepC/ageModel.exe\n",
      "\u001b[96m\u001b[1m[RUNNING COMMAND]\u001b[0m\n",
      "size \"ageModel_deepC/ageModel.exe\"\n",
      "   text\t   data\t    bss\t    dec\t    hex\tfilename\n",
      " 165740\t1718440\t    888\t1885068\t 1cc38c\tageModel_deepC/ageModel.exe\n",
      "\u001b[92m\u001b[1m[SUCCESS]\u001b[0m\n",
      "Saved model as executable \"ageModel_deepC/ageModel.exe\"\n"
     ]
    }
   ],
   "source": [
    "!deepCC ageModel.h5"
   ]
  },
  {
   "cell_type": "code",
   "execution_count": 52,
   "metadata": {
    "execution": {
     "iopub.execute_input": "2020-12-08T12:12:49.222540Z",
     "iopub.status.busy": "2020-12-08T12:12:49.222163Z",
     "iopub.status.idle": "2020-12-08T12:13:00.974892Z",
     "shell.execute_reply": "2020-12-08T12:13:00.974057Z",
     "shell.execute_reply.started": "2020-12-08T12:12:49.222505Z"
    }
   },
   "outputs": [
    {
     "name": "stdout",
     "output_type": "stream",
     "text": [
      "\u001b[96m\u001b[1m[INFO]\u001b[0m\n",
      "Reading [keras model] 'GenderModel.h5'\n",
      "\u001b[92m\u001b[1m[SUCCESS]\u001b[0m\n",
      "Saved 'GenderModel.onnx'\n",
      "\u001b[96m\u001b[1m[INFO]\u001b[0m\n",
      "Reading [onnx model] 'GenderModel.onnx'\n",
      "\u001b[96m\u001b[1m[INFO]\u001b[0m\n",
      "Model info:\n",
      "  ir_vesion : 5\n",
      "  doc       : \n",
      "\u001b[93m\u001b[1m[WARNING]\u001b[0m\n",
      "[ONNX]: terminal (input/output) input_1's shape is less than 1. Changing it to 1.\n",
      "\u001b[93m\u001b[1m[WARNING]\u001b[0m\n",
      "[ONNX]: terminal (input/output) dense_1's shape is less than 1. Changing it to 1.\n",
      "WARN (GRAPH): found operator node with the same name (dense_1) as io node.\n",
      "\u001b[96m\u001b[1m[INFO]\u001b[0m\n",
      "Running DNNC graph sanity check ...\n",
      "\u001b[92m\u001b[1m[SUCCESS]\u001b[0m\n",
      "Passed sanity check.\n",
      "\u001b[96m\u001b[1m[INFO]\u001b[0m\n",
      "Writing C++ file 'GenderModel_deepC/GenderModel.cpp'\n",
      "\u001b[96m\u001b[1m[INFO]\u001b[0m\n",
      "deepSea model files are ready in 'GenderModel_deepC/' \n",
      "\u001b[96m\u001b[1m[RUNNING COMMAND]\u001b[0m\n",
      "g++ -std=c++11 -O3 -fno-rtti -fno-exceptions -I. -I/opt/tljh/user/lib/python3.7/site-packages/deepC-0.13-py3.7-linux-x86_64.egg/deepC/include -isystem /opt/tljh/user/lib/python3.7/site-packages/deepC-0.13-py3.7-linux-x86_64.egg/deepC/packages/eigen-eigen-323c052e1731 GenderModel_deepC/GenderModel.cpp -o GenderModel_deepC/GenderModel.exe\n",
      "\u001b[96m\u001b[1m[RUNNING COMMAND]\u001b[0m\n",
      "size \"GenderModel_deepC/GenderModel.exe\"\n",
      "   text\t   data\t    bss\t    dec\t    hex\tfilename\n",
      " 167674\t1718632\t    888\t1887194\t 1ccbda\tGenderModel_deepC/GenderModel.exe\n",
      "\u001b[92m\u001b[1m[SUCCESS]\u001b[0m\n",
      "Saved model as executable \"GenderModel_deepC/GenderModel.exe\"\n"
     ]
    }
   ],
   "source": [
    "!deepCC GenderModel.h5"
   ]
  }
 ],
 "metadata": {
  "kernelspec": {
   "display_name": "Python 3",
   "language": "python",
   "name": "python3"
  },
  "language_info": {
   "codemirror_mode": {
    "name": "ipython",
    "version": 3
   },
   "file_extension": ".py",
   "mimetype": "text/x-python",
   "name": "python",
   "nbconvert_exporter": "python",
   "pygments_lexer": "ipython3",
   "version": "3.7.3"
  }
 },
 "nbformat": 4,
 "nbformat_minor": 4
}
